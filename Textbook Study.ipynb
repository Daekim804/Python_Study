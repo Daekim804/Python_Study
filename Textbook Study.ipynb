{
 "cells": [
  {
   "cell_type": "markdown",
   "id": "83b833d7",
   "metadata": {},
   "source": [
    "# Chapter2 자료형\n",
    "## 2.1 변수와 상수"
   ]
  },
  {
   "cell_type": "code",
   "execution_count": 7,
   "id": "5d9e3368",
   "metadata": {},
   "outputs": [
    {
     "name": "stdout",
     "output_type": "stream",
     "text": [
      "20\n",
      "A\n",
      "선생님\n"
     ]
    }
   ],
   "source": [
    "print(20)\n",
    "print('A')\n",
    "print(\"선생님\")"
   ]
  },
  {
   "cell_type": "code",
   "execution_count": 8,
   "id": "562c90fa",
   "metadata": {},
   "outputs": [
    {
     "name": "stdout",
     "output_type": "stream",
     "text": [
      "5\n"
     ]
    }
   ],
   "source": [
    "x=3\n",
    "y=x+2\n",
    "print(y)"
   ]
  },
  {
   "cell_type": "code",
   "execution_count": 9,
   "id": "32006ad1",
   "metadata": {},
   "outputs": [
    {
     "name": "stdout",
     "output_type": "stream",
     "text": [
      "선생님, 안녕하세요!\n"
     ]
    }
   ],
   "source": [
    "s = \"선생님\"\n",
    "s = s + \", \" + \"안녕하세요!\"\n",
    "print(s)"
   ]
  },
  {
   "cell_type": "markdown",
   "id": "ed583ca2",
   "metadata": {},
   "source": [
    "## 2.2 기본 자료형"
   ]
  },
  {
   "cell_type": "code",
   "execution_count": null,
   "id": "d9122b65",
   "metadata": {},
   "outputs": [],
   "source": []
  }
 ],
 "metadata": {
  "kernelspec": {
   "display_name": "Python 3",
   "language": "python",
   "name": "python3"
  },
  "language_info": {
   "codemirror_mode": {
    "name": "ipython",
    "version": 3
   },
   "file_extension": ".py",
   "mimetype": "text/x-python",
   "name": "python",
   "nbconvert_exporter": "python",
   "pygments_lexer": "ipython3",
   "version": "3.8.8"
  }
 },
 "nbformat": 4,
 "nbformat_minor": 5
}
