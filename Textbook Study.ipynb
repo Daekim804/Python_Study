{
 "cells": [
  {
   "cell_type": "markdown",
   "id": "d94aca8b",
   "metadata": {},
   "source": [
    "# Chapter2 자료형\n",
    "## 2.1 변수와 상수"
   ]
  },
  {
   "cell_type": "code",
   "execution_count": 7,
   "id": "d9b4dc84",
   "metadata": {},
   "outputs": [
    {
     "name": "stdout",
     "output_type": "stream",
     "text": [
      "20\n",
      "A\n",
      "선생님\n"
     ]
    }
   ],
   "source": [
    "print(20)\n",
    "print('A')\n",
    "print(\"선생님\")"
   ]
  },
  {
   "cell_type": "code",
   "execution_count": 8,
   "id": "e9237dd6",
   "metadata": {},
   "outputs": [
    {
     "name": "stdout",
     "output_type": "stream",
     "text": [
      "5\n"
     ]
    }
   ],
   "source": [
    "x=3\n",
    "y=x+2\n",
    "print(y)"
   ]
  },
  {
   "cell_type": "code",
   "execution_count": 9,
   "id": "57386eed",
   "metadata": {},
   "outputs": [
    {
     "name": "stdout",
     "output_type": "stream",
     "text": [
      "선생님, 안녕하세요!\n"
     ]
    }
   ],
   "source": [
    "s = \"선생님\"\n",
    "s = s + \", \" + \"안녕하세요!\"\n",
    "print(s)"
   ]
  },
  {
   "cell_type": "markdown",
   "id": "60492031",
   "metadata": {},
   "source": [
    "## 2.2 기본 자료형"
   ]
  },
  {
   "cell_type": "markdown",
   "id": "895d1114",
   "metadata": {},
   "source": [
    "### 숫자"
   ]
  },
  {
   "cell_type": "code",
   "execution_count": 10,
   "id": "bd4c1494",
   "metadata": {},
   "outputs": [
    {
     "name": "stdout",
     "output_type": "stream",
     "text": [
      "<class 'int'>\n"
     ]
    }
   ],
   "source": [
    "#정수형\n",
    "a = 359\n",
    "print(type(a))"
   ]
  },
  {
   "cell_type": "code",
   "execution_count": 11,
   "id": "21f70877",
   "metadata": {},
   "outputs": [
    {
     "name": "stdout",
     "output_type": "stream",
     "text": [
      "<class 'float'>\n"
     ]
    }
   ],
   "source": [
    "#실수형\n",
    "a = -3.619\n",
    "print(type(a))"
   ]
  },
  {
   "cell_type": "code",
   "execution_count": 12,
   "id": "94100b0c",
   "metadata": {},
   "outputs": [
    {
     "data": {
      "text/plain": [
       "36"
      ]
     },
     "execution_count": 12,
     "metadata": {},
     "output_type": "execute_result"
    }
   ],
   "source": [
    "#숫자 연산하기\n",
    "a = 27\n",
    "b = 9\n",
    "a + b"
   ]
  },
  {
   "cell_type": "code",
   "execution_count": 13,
   "id": "afddb6b3",
   "metadata": {},
   "outputs": [
    {
     "data": {
      "text/plain": [
       "18"
      ]
     },
     "execution_count": 13,
     "metadata": {},
     "output_type": "execute_result"
    }
   ],
   "source": [
    "a-b"
   ]
  },
  {
   "cell_type": "code",
   "execution_count": 14,
   "id": "6e044cb3",
   "metadata": {},
   "outputs": [
    {
     "data": {
      "text/plain": [
       "243"
      ]
     },
     "execution_count": 14,
     "metadata": {},
     "output_type": "execute_result"
    }
   ],
   "source": [
    "a*b"
   ]
  },
  {
   "cell_type": "code",
   "execution_count": null,
   "id": "b13b1367",
   "metadata": {},
   "outputs": [],
   "source": [
    "print(a / b)\n",
    "print(a // b) # a를 b로 나누었을 때 몫\n",
    "print(a % b) # 나머지"
   ]
  }
 ],
 "metadata": {
  "kernelspec": {
   "display_name": "Python 3",
   "language": "python",
   "name": "python3"
  },
  "language_info": {
   "codemirror_mode": {
    "name": "ipython",
    "version": 3
   },
   "file_extension": ".py",
   "mimetype": "text/x-python",
   "name": "python",
   "nbconvert_exporter": "python",
   "pygments_lexer": "ipython3",
   "version": "3.8.8"
  }
 },
 "nbformat": 4,
 "nbformat_minor": 5
}
