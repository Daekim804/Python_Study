{
 "cells": [
  {
   "cell_type": "markdown",
   "id": "9e94580c",
   "metadata": {},
   "source": [
    "# Chapter2 자료형\n",
    "## 2.1 변수와 상수"
   ]
  },
  {
   "cell_type": "code",
   "execution_count": 7,
   "id": "064ffaf1",
   "metadata": {},
   "outputs": [
    {
     "name": "stdout",
     "output_type": "stream",
     "text": [
      "20\n",
      "A\n",
      "선생님\n"
     ]
    }
   ],
   "source": [
    "print(20)\n",
    "print('A')\n",
    "print(\"선생님\")"
   ]
  },
  {
   "cell_type": "code",
   "execution_count": 8,
   "id": "3b6dc208",
   "metadata": {},
   "outputs": [
    {
     "name": "stdout",
     "output_type": "stream",
     "text": [
      "5\n"
     ]
    }
   ],
   "source": [
    "x=3\n",
    "y=x+2\n",
    "print(y)"
   ]
  },
  {
   "cell_type": "code",
   "execution_count": 9,
   "id": "02821fbb",
   "metadata": {},
   "outputs": [
    {
     "name": "stdout",
     "output_type": "stream",
     "text": [
      "선생님, 안녕하세요!\n"
     ]
    }
   ],
   "source": [
    "s = \"선생님\"\n",
    "s = s + \", \" + \"안녕하세요!\"\n",
    "print(s)"
   ]
  },
  {
   "cell_type": "markdown",
   "id": "77920d05",
   "metadata": {},
   "source": [
    "## 2.2 기본 자료형"
   ]
  },
  {
   "cell_type": "markdown",
   "id": "7b65ae35",
   "metadata": {},
   "source": [
    "### 숫자"
   ]
  },
  {
   "cell_type": "code",
   "execution_count": 10,
   "id": "37e30701",
   "metadata": {},
   "outputs": [
    {
     "name": "stdout",
     "output_type": "stream",
     "text": [
      "<class 'int'>\n"
     ]
    }
   ],
   "source": [
    "#정수형\n",
    "a = 359\n",
    "print(type(a))"
   ]
  },
  {
   "cell_type": "code",
   "execution_count": 11,
   "id": "5a53a005",
   "metadata": {},
   "outputs": [
    {
     "name": "stdout",
     "output_type": "stream",
     "text": [
      "<class 'float'>\n"
     ]
    }
   ],
   "source": [
    "#실수형\n",
    "a = -3.619\n",
    "print(type(a))"
   ]
  },
  {
   "cell_type": "code",
   "execution_count": 12,
   "id": "680fb9ef",
   "metadata": {},
   "outputs": [
    {
     "data": {
      "text/plain": [
       "36"
      ]
     },
     "execution_count": 12,
     "metadata": {},
     "output_type": "execute_result"
    }
   ],
   "source": [
    "#숫자 연산하기\n",
    "a = 27\n",
    "b = 9\n",
    "a + b"
   ]
  },
  {
   "cell_type": "code",
   "execution_count": 13,
   "id": "1bd25b42",
   "metadata": {},
   "outputs": [
    {
     "data": {
      "text/plain": [
       "18"
      ]
     },
     "execution_count": 13,
     "metadata": {},
     "output_type": "execute_result"
    }
   ],
   "source": [
    "a-b"
   ]
  },
  {
   "cell_type": "code",
   "execution_count": 14,
   "id": "cf0279de",
   "metadata": {},
   "outputs": [
    {
     "data": {
      "text/plain": [
       "243"
      ]
     },
     "execution_count": 14,
     "metadata": {},
     "output_type": "execute_result"
    }
   ],
   "source": [
    "a*b"
   ]
  },
  {
   "cell_type": "code",
   "execution_count": 15,
   "id": "13a50870",
   "metadata": {},
   "outputs": [
    {
     "name": "stdout",
     "output_type": "stream",
     "text": [
      "3.0\n",
      "3\n",
      "0\n"
     ]
    }
   ],
   "source": [
    "print(a / b)\n",
    "print(a // b) # a를 b로 나누었을 때 몫\n",
    "print(a % b) # 나머지"
   ]
  },
  {
   "cell_type": "markdown",
   "id": "6e1aa93e",
   "metadata": {},
   "source": [
    "### 실수형"
   ]
  },
  {
   "cell_type": "code",
   "execution_count": 16,
   "id": "5b83cb87",
   "metadata": {},
   "outputs": [
    {
     "name": "stdout",
     "output_type": "stream",
     "text": [
      "<class 'float'>\n"
     ]
    }
   ],
   "source": [
    "a = -3.619\n",
    "print(type(a))"
   ]
  },
  {
   "cell_type": "markdown",
   "id": "56dac7ac",
   "metadata": {},
   "source": [
    "### 숫자 연산하기"
   ]
  },
  {
   "cell_type": "code",
   "execution_count": 17,
   "id": "b2cb919a",
   "metadata": {},
   "outputs": [
    {
     "data": {
      "text/plain": [
       "36"
      ]
     },
     "execution_count": 17,
     "metadata": {},
     "output_type": "execute_result"
    }
   ],
   "source": [
    "a = 27\n",
    "b = 9\n",
    "a + b"
   ]
  },
  {
   "cell_type": "code",
   "execution_count": 18,
   "id": "26ae4539",
   "metadata": {},
   "outputs": [
    {
     "data": {
      "text/plain": [
       "18"
      ]
     },
     "execution_count": 18,
     "metadata": {},
     "output_type": "execute_result"
    }
   ],
   "source": [
    "a - b"
   ]
  },
  {
   "cell_type": "code",
   "execution_count": 19,
   "id": "28673eef",
   "metadata": {},
   "outputs": [
    {
     "data": {
      "text/plain": [
       "243"
      ]
     },
     "execution_count": 19,
     "metadata": {},
     "output_type": "execute_result"
    }
   ],
   "source": [
    "a * b"
   ]
  },
  {
   "cell_type": "code",
   "execution_count": 20,
   "id": "74f3cdb9",
   "metadata": {},
   "outputs": [
    {
     "name": "stdout",
     "output_type": "stream",
     "text": [
      "3.0\n",
      "3\n",
      "0\n"
     ]
    }
   ],
   "source": [
    "print(a / b)\n",
    "print(a // b)\n",
    "print(a % b)"
   ]
  },
  {
   "cell_type": "code",
   "execution_count": 21,
   "id": "03e02072",
   "metadata": {},
   "outputs": [
    {
     "data": {
      "text/plain": [
       "64"
      ]
     },
     "execution_count": 21,
     "metadata": {},
     "output_type": "execute_result"
    }
   ],
   "source": [
    "4 ** 3"
   ]
  },
  {
   "cell_type": "code",
   "execution_count": 22,
   "id": "6f005ffa",
   "metadata": {},
   "outputs": [
    {
     "data": {
      "text/plain": [
       "7.0"
      ]
     },
     "execution_count": 22,
     "metadata": {},
     "output_type": "execute_result"
    }
   ],
   "source": [
    "3 + 2 ** 3 / (5-3)"
   ]
  },
  {
   "cell_type": "code",
   "execution_count": 23,
   "id": "4944d74c",
   "metadata": {},
   "outputs": [
    {
     "data": {
      "text/plain": [
       "3"
      ]
     },
     "execution_count": 23,
     "metadata": {},
     "output_type": "execute_result"
    }
   ],
   "source": [
    "abs(-3)"
   ]
  },
  {
   "cell_type": "code",
   "execution_count": 24,
   "id": "8f293136",
   "metadata": {},
   "outputs": [
    {
     "data": {
      "text/plain": [
       "3.142"
      ]
     },
     "execution_count": 24,
     "metadata": {},
     "output_type": "execute_result"
    }
   ],
   "source": [
    "round(3.14159, 3)"
   ]
  },
  {
   "cell_type": "code",
   "execution_count": 25,
   "id": "07968eca",
   "metadata": {},
   "outputs": [
    {
     "name": "stdout",
     "output_type": "stream",
     "text": [
      "311\n",
      "2044\n"
     ]
    }
   ],
   "source": [
    "a = 0o467 # 8진수 표현\n",
    "b = 0x7fc # 16진수 표현\n",
    "print(a)\n",
    "print(b)"
   ]
  },
  {
   "cell_type": "markdown",
   "id": "582a0238",
   "metadata": {},
   "source": [
    "### 문자열"
   ]
  },
  {
   "cell_type": "code",
   "execution_count": 26,
   "id": "b798800c",
   "metadata": {},
   "outputs": [
    {
     "data": {
      "text/plain": [
       "'Hello Python!'"
      ]
     },
     "execution_count": 26,
     "metadata": {},
     "output_type": "execute_result"
    }
   ],
   "source": [
    "a = \"Hello Python!\"\n",
    "a"
   ]
  },
  {
   "cell_type": "code",
   "execution_count": 27,
   "id": "c25f40ab",
   "metadata": {},
   "outputs": [
    {
     "data": {
      "text/plain": [
       "str"
      ]
     },
     "execution_count": 27,
     "metadata": {},
     "output_type": "execute_result"
    }
   ],
   "source": [
    "type(a)"
   ]
  },
  {
   "cell_type": "markdown",
   "id": "399d3d95",
   "metadata": {},
   "source": [
    "### 문자열 안에 따옴표 포함시키기"
   ]
  },
  {
   "cell_type": "code",
   "execution_count": 28,
   "id": "4ef589af",
   "metadata": {},
   "outputs": [
    {
     "name": "stdout",
     "output_type": "stream",
     "text": [
      "It's mine.\n"
     ]
    }
   ],
   "source": [
    "sen = \"It's mine.\"\n",
    "print(sen)"
   ]
  },
  {
   "cell_type": "code",
   "execution_count": 31,
   "id": "97d1640d",
   "metadata": {},
   "outputs": [
    {
     "name": "stdout",
     "output_type": "stream",
     "text": [
      "\"It is impossible.\" He says.\n"
     ]
    }
   ],
   "source": [
    "sen2 = '\"It is impossible.\" He says.'\n",
    "print(sen2)"
   ]
  },
  {
   "cell_type": "code",
   "execution_count": 34,
   "id": "3010e916",
   "metadata": {},
   "outputs": [
    {
     "name": "stdout",
     "output_type": "stream",
     "text": [
      "It's mine.\n",
      "\"It is impossible.\" He says.\n"
     ]
    }
   ],
   "source": [
    "sen3 = 'It\\'s mine.' # 작은따옴표를 문자열 앞뒤와 안에 사용\n",
    "sen4 = \"\\\"It is impossible.\\\" He says.\" # 큰따옴표를 문자열 앞뒤와 안에 사용\n",
    "print(sen3)\n",
    "print(sen4)"
   ]
  },
  {
   "cell_type": "code",
   "execution_count": 35,
   "id": "f3436fb3",
   "metadata": {},
   "outputs": [
    {
     "name": "stdout",
     "output_type": "stream",
     "text": [
      "Hello!\n",
      "Python!\n"
     ]
    }
   ],
   "source": [
    "a = \"\"\"Hello!\n",
    "Python!\"\"\"\n",
    "print(a)"
   ]
  },
  {
   "cell_type": "code",
   "execution_count": 36,
   "id": "88a1e32a",
   "metadata": {},
   "outputs": [
    {
     "name": "stdout",
     "output_type": "stream",
     "text": [
      "Hello! \n",
      "Python!\n"
     ]
    }
   ],
   "source": [
    "a = \"Hello! \\nPython!\"\n",
    "print(a)"
   ]
  },
  {
   "cell_type": "markdown",
   "id": "7bbb5ba5",
   "metadata": {},
   "source": [
    "### 문자열 연산하기"
   ]
  },
  {
   "cell_type": "code",
   "execution_count": 37,
   "id": "09089f94",
   "metadata": {},
   "outputs": [
    {
     "name": "stdout",
     "output_type": "stream",
     "text": [
      "Hello! Python!\n"
     ]
    }
   ],
   "source": [
    "a = \"Hello! \"\n",
    "b = \"Python!\"\n",
    "print(a + b)"
   ]
  },
  {
   "cell_type": "code",
   "execution_count": 38,
   "id": "58a72f3f",
   "metadata": {},
   "outputs": [
    {
     "data": {
      "text/plain": [
       "'Hello! Hello! Hello! '"
      ]
     },
     "execution_count": 38,
     "metadata": {},
     "output_type": "execute_result"
    }
   ],
   "source": [
    "a * 3"
   ]
  },
  {
   "cell_type": "code",
   "execution_count": 39,
   "id": "fe26eb05",
   "metadata": {},
   "outputs": [
    {
     "data": {
      "text/plain": [
       "'263'"
      ]
     },
     "execution_count": 39,
     "metadata": {},
     "output_type": "execute_result"
    }
   ],
   "source": [
    "a = \"26\"\n",
    "b = \"3\"\n",
    "a + b"
   ]
  },
  {
   "cell_type": "code",
   "execution_count": 40,
   "id": "ebe64de3",
   "metadata": {},
   "outputs": [
    {
     "data": {
      "text/plain": [
       "'262626'"
      ]
     },
     "execution_count": 40,
     "metadata": {},
     "output_type": "execute_result"
    }
   ],
   "source": [
    "a *3"
   ]
  },
  {
   "cell_type": "markdown",
   "id": "8e8505a1",
   "metadata": {},
   "source": [
    "### 문자열 인덱싱과 슬라이싱"
   ]
  },
  {
   "cell_type": "code",
   "execution_count": 41,
   "id": "bd6231c8",
   "metadata": {},
   "outputs": [],
   "source": [
    "a = \"hello! Python!\""
   ]
  },
  {
   "cell_type": "code",
   "execution_count": 42,
   "id": "2e6829af",
   "metadata": {},
   "outputs": [
    {
     "data": {
      "text/plain": [
       "'!'"
      ]
     },
     "execution_count": 42,
     "metadata": {},
     "output_type": "execute_result"
    }
   ],
   "source": [
    "a[-1]"
   ]
  },
  {
   "cell_type": "code",
   "execution_count": 43,
   "id": "b113c168",
   "metadata": {},
   "outputs": [
    {
     "data": {
      "text/plain": [
       "'l'"
      ]
     },
     "execution_count": 43,
     "metadata": {},
     "output_type": "execute_result"
    }
   ],
   "source": [
    "a[3]"
   ]
  },
  {
   "cell_type": "code",
   "execution_count": 44,
   "id": "3b95731f",
   "metadata": {},
   "outputs": [
    {
     "data": {
      "text/plain": [
       "'lo! Py'"
      ]
     },
     "execution_count": 44,
     "metadata": {},
     "output_type": "execute_result"
    }
   ],
   "source": [
    "a[3:9]"
   ]
  },
  {
   "cell_type": "code",
   "execution_count": 45,
   "id": "5e290e58",
   "metadata": {},
   "outputs": [
    {
     "data": {
      "text/plain": [
       "'lo! Pyt'"
      ]
     },
     "execution_count": 45,
     "metadata": {},
     "output_type": "execute_result"
    }
   ],
   "source": [
    "a[3:-4]"
   ]
  },
  {
   "cell_type": "code",
   "execution_count": 46,
   "id": "d33fd259",
   "metadata": {},
   "outputs": [
    {
     "data": {
      "text/plain": [
       "'lo! P'"
      ]
     },
     "execution_count": 46,
     "metadata": {},
     "output_type": "execute_result"
    }
   ],
   "source": [
    "a[3:-6]"
   ]
  },
  {
   "cell_type": "code",
   "execution_count": 49,
   "id": "a0245207",
   "metadata": {},
   "outputs": [
    {
     "data": {
      "text/plain": [
       "'hello! P'"
      ]
     },
     "execution_count": 49,
     "metadata": {},
     "output_type": "execute_result"
    }
   ],
   "source": [
    "a[:8]"
   ]
  },
  {
   "cell_type": "code",
   "execution_count": 50,
   "id": "3278007c",
   "metadata": {},
   "outputs": [
    {
     "data": {
      "text/plain": [
       "'lo! Python!'"
      ]
     },
     "execution_count": 50,
     "metadata": {},
     "output_type": "execute_result"
    }
   ],
   "source": [
    "a[3:]"
   ]
  },
  {
   "cell_type": "code",
   "execution_count": 51,
   "id": "f952f4f5",
   "metadata": {},
   "outputs": [
    {
     "name": "stdout",
     "output_type": "stream",
     "text": [
      "Live\n"
     ]
    }
   ],
   "source": [
    "a=\"Life\"\n",
    "b = a[0:2] + \"v\" + a[-1]\n",
    "print(b)"
   ]
  },
  {
   "cell_type": "markdown",
   "id": "a35ddc91",
   "metadata": {},
   "source": [
    "### 문자열 포맷팅"
   ]
  },
  {
   "cell_type": "code",
   "execution_count": 57,
   "id": "907db938",
   "metadata": {},
   "outputs": [],
   "source": [
    "# %c 'chracter'의 첫 글자. 문자 1개를 의미. 입력값 = 문자 1개, 0또는 양의 정수\n",
    "# %d 'digit'의 첫 글자. 정수형 숫자를 의미. 입력값 = 음의 정수, 0, 양의 정수\n",
    "# %f 'floating point'의 첫 글자. 실수형 숫자를 의미. 입력값 = 실수(정수 포함)\n",
    "# %s 'string'의 첫 글자. 문자열을 의미. 입력값 = 문자열, 실수, 정수"
   ]
  },
  {
   "cell_type": "code",
   "execution_count": 53,
   "id": "1128426f",
   "metadata": {
    "scrolled": true
   },
   "outputs": [
    {
     "data": {
      "text/plain": [
       "'I eat 3 bananas.'"
      ]
     },
     "execution_count": 53,
     "metadata": {},
     "output_type": "execute_result"
    }
   ],
   "source": [
    "\"I eat %s bananas.\" %3"
   ]
  },
  {
   "cell_type": "code",
   "execution_count": 54,
   "id": "3749095c",
   "metadata": {},
   "outputs": [
    {
     "data": {
      "text/plain": [
       "'I eat three bananas.'"
      ]
     },
     "execution_count": 54,
     "metadata": {},
     "output_type": "execute_result"
    }
   ],
   "source": [
    "\"I eat %s bananas.\" %\"three\""
   ]
  },
  {
   "cell_type": "code",
   "execution_count": 55,
   "id": "8f1fe4fd",
   "metadata": {},
   "outputs": [
    {
     "data": {
      "text/plain": [
       "'I like blue color.'"
      ]
     },
     "execution_count": 55,
     "metadata": {},
     "output_type": "execute_result"
    }
   ],
   "source": [
    "color = \"blue\"\n",
    "\"I like %s color.\" %color"
   ]
  },
  {
   "cell_type": "code",
   "execution_count": 59,
   "id": "30fdfe4a",
   "metadata": {},
   "outputs": [
    {
     "data": {
      "text/plain": [
       "'          hello'"
      ]
     },
     "execution_count": 59,
     "metadata": {},
     "output_type": "execute_result"
    }
   ],
   "source": [
    "ar = \"%15s\" %\"hello\"\n",
    "ar"
   ]
  },
  {
   "cell_type": "code",
   "execution_count": null,
   "id": "bfd052ad",
   "metadata": {},
   "outputs": [],
   "source": []
  }
 ],
 "metadata": {
  "kernelspec": {
   "display_name": "Python 3",
   "language": "python",
   "name": "python3"
  },
  "language_info": {
   "codemirror_mode": {
    "name": "ipython",
    "version": 3
   },
   "file_extension": ".py",
   "mimetype": "text/x-python",
   "name": "python",
   "nbconvert_exporter": "python",
   "pygments_lexer": "ipython3",
   "version": "3.8.8"
  }
 },
 "nbformat": 4,
 "nbformat_minor": 5
}
